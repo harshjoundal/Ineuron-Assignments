{
 "cells": [
  {
   "cell_type": "markdown",
   "id": "b7f2a424",
   "metadata": {},
   "source": [
    "Q1 (1) : Write a Python Program to implement your own myreduce() function which works exactly\n",
    "like Python's built-in function reduce()"
   ]
  },
  {
   "cell_type": "code",
   "execution_count": 1,
   "id": "052ce978",
   "metadata": {},
   "outputs": [],
   "source": [
    "l =[1,2,34,45,35,23441234,4,25,25,245,3245,52,5123423]\n"
   ]
  },
  {
   "cell_type": "code",
   "execution_count": 5,
   "id": "8e85346d",
   "metadata": {},
   "outputs": [
    {
     "data": {
      "text/plain": [
       "28568370"
      ]
     },
     "execution_count": 5,
     "metadata": {},
     "output_type": "execute_result"
    }
   ],
   "source": [
    "from functools import reduce\n",
    "reduce(lambda a,b : a+b, l)"
   ]
  },
  {
   "cell_type": "code",
   "execution_count": 3,
   "id": "0f959c76",
   "metadata": {},
   "outputs": [],
   "source": [
    "def myreduce(a):\n",
    "    b = 0\n",
    "    for i in a:\n",
    "        b = b + i\n",
    "    return b    \n",
    "    "
   ]
  },
  {
   "cell_type": "code",
   "execution_count": 4,
   "id": "83523426",
   "metadata": {},
   "outputs": [
    {
     "data": {
      "text/plain": [
       "28568370"
      ]
     },
     "execution_count": 4,
     "metadata": {},
     "output_type": "execute_result"
    }
   ],
   "source": [
    "myreduce(l)"
   ]
  },
  {
   "cell_type": "code",
   "execution_count": null,
   "id": "498320c9",
   "metadata": {},
   "outputs": [],
   "source": [
    "\n"
   ]
  },
  {
   "cell_type": "markdown",
   "id": "fde74aa7",
   "metadata": {},
   "source": [
    "Q1(2) : Write a Python program to implement your own myfilter() function which works exactly\n",
    "like Python's built-in function filter()"
   ]
  },
  {
   "cell_type": "code",
   "execution_count": 6,
   "id": "95e1d70c",
   "metadata": {},
   "outputs": [],
   "source": [
    "mylist = [54,23,7,\"Harsh\",52,\"Ankita\",234,[23,23,565,12]]\n"
   ]
  },
  {
   "cell_type": "code",
   "execution_count": 9,
   "id": "a3de5731",
   "metadata": {},
   "outputs": [],
   "source": [
    "def myfilter(n):\n",
    "    a =[]\n",
    "    for i in n:\n",
    "        if type(i) == str:\n",
    "            a.append(i)\n",
    "        else:\n",
    "            continue\n",
    "    return a        "
   ]
  },
  {
   "cell_type": "code",
   "execution_count": 10,
   "id": "5b434bf1",
   "metadata": {},
   "outputs": [
    {
     "data": {
      "text/plain": [
       "['Harsh', 'Ankita']"
      ]
     },
     "execution_count": 10,
     "metadata": {},
     "output_type": "execute_result"
    }
   ],
   "source": [
    "myfilter(mylist)"
   ]
  },
  {
   "cell_type": "code",
   "execution_count": 13,
   "id": "982e3228",
   "metadata": {},
   "outputs": [
    {
     "data": {
      "text/plain": [
       "['Harsh', 'Ankita']"
      ]
     },
     "execution_count": 13,
     "metadata": {},
     "output_type": "execute_result"
    }
   ],
   "source": [
    "list(filter(lambda a : True if type(a)==str else False, mylist))"
   ]
  },
  {
   "cell_type": "code",
   "execution_count": null,
   "id": "631fb3b2",
   "metadata": {},
   "outputs": [],
   "source": []
  },
  {
   "cell_type": "markdown",
   "id": "40d4a017",
   "metadata": {},
   "source": [
    "Q2 Implement List comprehensions to produce the following lists."
   ]
  },
  {
   "cell_type": "code",
   "execution_count": 14,
   "id": "b2f48e77",
   "metadata": {},
   "outputs": [],
   "source": [
    "h =\"x,xx,xxx,xxxx,y,yy,yyy,yyyy,z,zz,zzz,zzzz\""
   ]
  },
  {
   "cell_type": "code",
   "execution_count": 16,
   "id": "53e35ef5",
   "metadata": {},
   "outputs": [
    {
     "data": {
      "text/plain": [
       "['x', 'xx', 'xxx', 'xxxx', 'y', 'yy', 'yyy', 'yyyy', 'z', 'zz', 'zzz', 'zzzz']"
      ]
     },
     "execution_count": 16,
     "metadata": {},
     "output_type": "execute_result"
    }
   ],
   "source": [
    "f=h.split(\",\")\n",
    "f"
   ]
  },
  {
   "cell_type": "code",
   "execution_count": 41,
   "id": "4e3f6a1a",
   "metadata": {},
   "outputs": [],
   "source": [
    "j =\"xayazaxxayyazzaxxxayyyazzz\"\n"
   ]
  },
  {
   "cell_type": "code",
   "execution_count": 42,
   "id": "d18e82c8",
   "metadata": {},
   "outputs": [
    {
     "data": {
      "text/plain": [
       "['x', 'y', 'z', 'xx', 'yy', 'zz', 'xxx', 'yyy', 'zzz']"
      ]
     },
     "execution_count": 42,
     "metadata": {},
     "output_type": "execute_result"
    }
   ],
   "source": [
    "j.split(\"a\")"
   ]
  },
  {
   "cell_type": "code",
   "execution_count": null,
   "id": "e7b06d4e",
   "metadata": {},
   "outputs": [],
   "source": []
  },
  {
   "cell_type": "code",
   "execution_count": 48,
   "id": "b0637d1f",
   "metadata": {},
   "outputs": [],
   "source": [
    "q =[]\n",
    "q.append([1])\n",
    "q.append([2])\n",
    "q.append([3])\n",
    "q.append([4])\n",
    "q.append([2,3])\n",
    "q.append([2,4,56,2])\n",
    "q.append([5,2,3,6,2,6,])\n",
    "\n"
   ]
  },
  {
   "cell_type": "code",
   "execution_count": 49,
   "id": "fbc907f2",
   "metadata": {},
   "outputs": [
    {
     "data": {
      "text/plain": [
       "[[1], [2], [3], [4], [2, 3], [2, 4, 56, 2], [5, 2, 3, 6, 2, 6]]"
      ]
     },
     "execution_count": 49,
     "metadata": {},
     "output_type": "execute_result"
    }
   ],
   "source": [
    "q"
   ]
  },
  {
   "cell_type": "code",
   "execution_count": null,
   "id": "1b19bcff",
   "metadata": {},
   "outputs": [],
   "source": []
  },
  {
   "cell_type": "code",
   "execution_count": 54,
   "id": "bbc2e57d",
   "metadata": {},
   "outputs": [],
   "source": [
    "w =[1,2,3,1,2,3,1,2,3]\n",
    "e =[1,1,1,2,2,2,3,3,3]"
   ]
  },
  {
   "cell_type": "code",
   "execution_count": 55,
   "id": "6e0577fa",
   "metadata": {},
   "outputs": [],
   "source": [
    "c = lambda a,b : [i for i in zip(a,b)]"
   ]
  },
  {
   "cell_type": "code",
   "execution_count": 56,
   "id": "de4c8ccf",
   "metadata": {},
   "outputs": [
    {
     "data": {
      "text/plain": [
       "[(1, 1), (2, 1), (3, 1), (1, 2), (2, 2), (3, 2), (1, 3), (2, 3), (3, 3)]"
      ]
     },
     "execution_count": 56,
     "metadata": {},
     "output_type": "execute_result"
    }
   ],
   "source": [
    "c(w,e)"
   ]
  },
  {
   "cell_type": "code",
   "execution_count": null,
   "id": "1ef8b1c8",
   "metadata": {},
   "outputs": [],
   "source": []
  }
 ],
 "metadata": {
  "kernelspec": {
   "display_name": "Python 3",
   "language": "python",
   "name": "python3"
  },
  "language_info": {
   "codemirror_mode": {
    "name": "ipython",
    "version": 3
   },
   "file_extension": ".py",
   "mimetype": "text/x-python",
   "name": "python",
   "nbconvert_exporter": "python",
   "pygments_lexer": "ipython3",
   "version": "3.8.8"
  }
 },
 "nbformat": 4,
 "nbformat_minor": 5
}
