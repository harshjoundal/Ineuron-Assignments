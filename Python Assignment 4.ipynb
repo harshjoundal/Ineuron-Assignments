{
 "cells": [
  {
   "cell_type": "markdown",
   "id": "c498f193",
   "metadata": {},
   "source": [
    "\n",
    "# Python Assignment 4"
   ]
  },
  {
   "cell_type": "markdown",
   "id": "6b8f1dbf",
   "metadata": {},
   "source": [
    "Q1.1 Write a Python Program(with class concepts) to find the area of the triangle using the below\n",
    "\n",
    "formula.\n",
    "\n",
    "area = (s*(s-a)*(s-b)*(s-c)) ** 0.5\n",
    "\n",
    "Function to take the length of the sides of triangle from user should be defined in the parent\n",
    "class and function to calculate the area should be defined in subclass."
   ]
  },
  {
   "cell_type": "code",
   "execution_count": 1,
   "id": "0922260d",
   "metadata": {},
   "outputs": [],
   "source": [
    "class Triangle_dia:\n",
    "    def __init__ (self,s,a,b,c):\n",
    "        self.s=s\n",
    "        self.a=a\n",
    "        self.b=b\n",
    "        self.c=c\n",
    "        "
   ]
  },
  {
   "cell_type": "code",
   "execution_count": 68,
   "id": "f586fb5a",
   "metadata": {},
   "outputs": [],
   "source": [
    "class area(Triangle_dia):\n",
    "    def __init__(self,*args):\n",
    "        super(area,self).__init__(*args)\n",
    "    def formula(self):\n",
    "        areaofTriangle = (self.s*(self.s - self.a)*(self.s - self.b)*(self.s - self.c)) * 0.5 \n",
    "        return areaofTriangle\n",
    "        \n"
   ]
  },
  {
   "cell_type": "code",
   "execution_count": 120,
   "id": "bafc7048",
   "metadata": {},
   "outputs": [
    {
     "name": "stdout",
     "output_type": "stream",
     "text": [
      "100\n",
      "3\n",
      "23\n",
      "56\n"
     ]
    },
    {
     "data": {
      "text/plain": [
       "16431800.0"
      ]
     },
     "execution_count": 120,
     "metadata": {},
     "output_type": "execute_result"
    }
   ],
   "source": [
    "p = area(int(input()),int(input()),int(input()),int(input()))\n",
    "p.formula()"
   ]
  },
  {
   "cell_type": "code",
   "execution_count": null,
   "id": "a44b1cc6",
   "metadata": {},
   "outputs": [],
   "source": []
  },
  {
   "cell_type": "code",
   "execution_count": 121,
   "id": "35f8fb47",
   "metadata": {},
   "outputs": [
    {
     "data": {
      "text/plain": [
       "{'s': 100, 'a': 3, 'b': 23, 'c': 56}"
      ]
     },
     "execution_count": 121,
     "metadata": {},
     "output_type": "execute_result"
    }
   ],
   "source": [
    "p.__dict__"
   ]
  },
  {
   "cell_type": "markdown",
   "id": "886296ce",
   "metadata": {},
   "source": [
    "--------"
   ]
  },
  {
   "cell_type": "markdown",
   "id": "20dc2550",
   "metadata": {},
   "source": [
    "Q1.2 ) Write a function filter_long_words() that takes a list of words and an integer n and returns\n",
    "the list of words that are longer than n."
   ]
  },
  {
   "cell_type": "code",
   "execution_count": 102,
   "id": "ec54c959",
   "metadata": {},
   "outputs": [],
   "source": [
    "def filter_long_words(l,n):\n",
    "    words_longer_than_n =[]\n",
    "    for i in l:\n",
    "        if len(i) > n:\n",
    "            words_longer_than_n.append(i)\n",
    "    return words_longer_than_n    \n",
    "            "
   ]
  },
  {
   "cell_type": "code",
   "execution_count": 103,
   "id": "f18a31de",
   "metadata": {},
   "outputs": [],
   "source": [
    "l = [\"sfgsadf\",'asdfasdf','asddfawefsvasv','asdffasdf']"
   ]
  },
  {
   "cell_type": "code",
   "execution_count": 106,
   "id": "f4068914",
   "metadata": {},
   "outputs": [
    {
     "data": {
      "text/plain": [
       "['asddfawefsvasv']"
      ]
     },
     "execution_count": 106,
     "metadata": {},
     "output_type": "execute_result"
    }
   ],
   "source": [
    "filter_long_words(l,10)"
   ]
  },
  {
   "cell_type": "markdown",
   "id": "7f71456e",
   "metadata": {},
   "source": [
    "---------------"
   ]
  },
  {
   "cell_type": "markdown",
   "id": "f7400827",
   "metadata": {},
   "source": [
    "Q2.1) Write a Python program using function concept that maps list of words into a list of integers\n",
    "representing the lengths of the corresponding words.\n",
    "\n",
    "Hint: If a list [ ab,cde,erty] is passed on to the python function output should come as [2,3,4]\n",
    "Here 2,3 and 4 are the lengths of the words in the list."
   ]
  },
  {
   "cell_type": "code",
   "execution_count": 108,
   "id": "96de4ad4",
   "metadata": {},
   "outputs": [],
   "source": [
    "def lengthofwords(l):\n",
    "    a=[]\n",
    "    for i in l:\n",
    "        b= int(len(i))\n",
    "        a.append(b)\n",
    "    return a    "
   ]
  },
  {
   "cell_type": "code",
   "execution_count": 109,
   "id": "0f39d2f5",
   "metadata": {},
   "outputs": [
    {
     "data": {
      "text/plain": [
       "[7, 8, 14, 9]"
      ]
     },
     "execution_count": 109,
     "metadata": {},
     "output_type": "execute_result"
    }
   ],
   "source": [
    "lengthofwords(l)"
   ]
  },
  {
   "cell_type": "markdown",
   "id": "001860f3",
   "metadata": {},
   "source": [
    "----------"
   ]
  },
  {
   "cell_type": "markdown",
   "id": "64e07196",
   "metadata": {},
   "source": [
    "Q2.2) Write a Python function which takes a character (i.e. a string of length 1) and returns True if\n",
    "it is a vowel, False otherwise."
   ]
  },
  {
   "cell_type": "code",
   "execution_count": 117,
   "id": "21a3bdb0",
   "metadata": {},
   "outputs": [],
   "source": [
    "def vowel(n):\n",
    "    if n[0] == 'a'or n[0]== 'A':\n",
    "        return True\n",
    "    elif n[0] == \"e\" or n[0] == \"E\":\n",
    "        return True\n",
    "    elif n[0] == \"i\" or n[0] == \"I\":\n",
    "        return True\n",
    "    elif n[0] == \"o\" or n[0] == \"O\":\n",
    "        return True\n",
    "    elif n[0] == \"u\" or n[0] == \"U\":\n",
    "        return True\n",
    "    else:\n",
    "        return False\n",
    "    "
   ]
  },
  {
   "cell_type": "code",
   "execution_count": 118,
   "id": "d37807bd",
   "metadata": {},
   "outputs": [
    {
     "data": {
      "text/plain": [
       "False"
      ]
     },
     "execution_count": 118,
     "metadata": {},
     "output_type": "execute_result"
    }
   ],
   "source": [
    "vowel('y')"
   ]
  },
  {
   "cell_type": "code",
   "execution_count": 122,
   "id": "655d5303",
   "metadata": {},
   "outputs": [
    {
     "data": {
      "text/plain": [
       "True"
      ]
     },
     "execution_count": 122,
     "metadata": {},
     "output_type": "execute_result"
    }
   ],
   "source": [
    "vowel('a')"
   ]
  },
  {
   "cell_type": "code",
   "execution_count": null,
   "id": "4c397e0d",
   "metadata": {},
   "outputs": [],
   "source": []
  }
 ],
 "metadata": {
  "kernelspec": {
   "display_name": "Python 3",
   "language": "python",
   "name": "python3"
  },
  "language_info": {
   "codemirror_mode": {
    "name": "ipython",
    "version": 3
   },
   "file_extension": ".py",
   "mimetype": "text/x-python",
   "name": "python",
   "nbconvert_exporter": "python",
   "pygments_lexer": "ipython3",
   "version": "3.8.8"
  }
 },
 "nbformat": 4,
 "nbformat_minor": 5
}
